{
 "cells": [
  {
   "cell_type": "code",
   "execution_count": 1,
   "id": "280654bd",
   "metadata": {},
   "outputs": [],
   "source": [
    "import re"
   ]
  },
  {
   "cell_type": "code",
   "execution_count": 7,
   "id": "eb63781d",
   "metadata": {},
   "outputs": [],
   "source": [
    "hero_regex = re.compile(r'Batman|Tina Fey')"
   ]
  },
  {
   "cell_type": "code",
   "execution_count": null,
   "id": "6cfb495b",
   "metadata": {},
   "outputs": [
    {
     "name": "stdout",
     "output_type": "stream",
     "text": [
      "Batman\n"
     ]
    }
   ],
   "source": [
    "mol = hero_regex.search('Batman y Tina Fey')\n",
    "\n",
    "print(mol.group())"
   ]
  },
  {
   "cell_type": "code",
   "execution_count": 6,
   "id": "947203e0",
   "metadata": {},
   "outputs": [
    {
     "name": "stdout",
     "output_type": "stream",
     "text": [
      "()\n"
     ]
    }
   ],
   "source": [
    "mo2 = hero_regex.search('Batman y Tina Fey')\n",
    "print(mo2.groups())"
   ]
  },
  {
   "cell_type": "code",
   "execution_count": 11,
   "id": "83a0cef9",
   "metadata": {},
   "outputs": [
    {
     "name": "stdout",
     "output_type": "stream",
     "text": [
      "Batman\n"
     ]
    }
   ],
   "source": [
    "bat_regex = re.compile(r'Bat(wo)?man')\n",
    "mo1 = bat_regex.search('Las aventuras de Batman')\n",
    "print(mo1.group())"
   ]
  },
  {
   "cell_type": "code",
   "execution_count": 12,
   "id": "3a27e77f",
   "metadata": {},
   "outputs": [
    {
     "name": "stdout",
     "output_type": "stream",
     "text": [
      "Batwoman\n"
     ]
    }
   ],
   "source": [
    "mo2 = bat_regex.search('Las aventuras de Batwoman')\n",
    "print(mo2.group())"
   ]
  },
  {
   "cell_type": "code",
   "execution_count": 13,
   "id": "07d066e1",
   "metadata": {},
   "outputs": [],
   "source": [
    "phone_regex = re.compile(r'(\\d\\d\\d-)')"
   ]
  },
  {
   "cell_type": "code",
   "execution_count": 14,
   "id": "ff76d1ac",
   "metadata": {},
   "outputs": [],
   "source": [
    "# COLAB 2\n",
    "# https://colab.research.google.com/drive/1K4LLGcpvc33-2HmCD0zZq2iswvL25FhQ?usp=sharing "
   ]
  },
  {
   "cell_type": "code",
   "execution_count": null,
   "id": "810fb621",
   "metadata": {},
   "outputs": [],
   "source": []
  }
 ],
 "metadata": {
  "kernelspec": {
   "display_name": "diplomado",
   "language": "python",
   "name": "python3"
  },
  "language_info": {
   "codemirror_mode": {
    "name": "ipython",
    "version": 3
   },
   "file_extension": ".py",
   "mimetype": "text/x-python",
   "name": "python",
   "nbconvert_exporter": "python",
   "pygments_lexer": "ipython3",
   "version": "3.12.7"
  }
 },
 "nbformat": 4,
 "nbformat_minor": 5
}
