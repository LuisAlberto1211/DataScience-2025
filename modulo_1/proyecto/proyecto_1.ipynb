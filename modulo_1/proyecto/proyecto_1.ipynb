{
 "cells": [
  {
   "cell_type": "code",
   "execution_count": 2,
   "id": "5fda100a",
   "metadata": {},
   "outputs": [
    {
     "name": "stdout",
     "output_type": "stream",
     "text": [
      "Requirement already satisfied: requests in /Users/luisortega/Documents/DiplomadoDS2025/DataScience-2025/diplomado/lib/python3.12/site-packages (2.32.5)\n",
      "Requirement already satisfied: beautifulsoup4 in /Users/luisortega/Documents/DiplomadoDS2025/DataScience-2025/diplomado/lib/python3.12/site-packages (4.13.5)\n",
      "Requirement already satisfied: charset_normalizer<4,>=2 in /Users/luisortega/Documents/DiplomadoDS2025/DataScience-2025/diplomado/lib/python3.12/site-packages (from requests) (3.4.3)\n",
      "Requirement already satisfied: idna<4,>=2.5 in /Users/luisortega/Documents/DiplomadoDS2025/DataScience-2025/diplomado/lib/python3.12/site-packages (from requests) (3.10)\n",
      "Requirement already satisfied: urllib3<3,>=1.21.1 in /Users/luisortega/Documents/DiplomadoDS2025/DataScience-2025/diplomado/lib/python3.12/site-packages (from requests) (2.5.0)\n",
      "Requirement already satisfied: certifi>=2017.4.17 in /Users/luisortega/Documents/DiplomadoDS2025/DataScience-2025/diplomado/lib/python3.12/site-packages (from requests) (2025.8.3)\n",
      "Requirement already satisfied: soupsieve>1.2 in /Users/luisortega/Documents/DiplomadoDS2025/DataScience-2025/diplomado/lib/python3.12/site-packages (from beautifulsoup4) (2.8)\n",
      "Requirement already satisfied: typing-extensions>=4.0.0 in /Users/luisortega/Documents/DiplomadoDS2025/DataScience-2025/diplomado/lib/python3.12/site-packages (from beautifulsoup4) (4.15.0)\n",
      "\n",
      "\u001b[1m[\u001b[0m\u001b[34;49mnotice\u001b[0m\u001b[1;39;49m]\u001b[0m\u001b[39;49m A new release of pip is available: \u001b[0m\u001b[31;49m24.2\u001b[0m\u001b[39;49m -> \u001b[0m\u001b[32;49m25.2\u001b[0m\n",
      "\u001b[1m[\u001b[0m\u001b[34;49mnotice\u001b[0m\u001b[1;39;49m]\u001b[0m\u001b[39;49m To update, run: \u001b[0m\u001b[32;49mpip install --upgrade pip\u001b[0m\n"
     ]
    }
   ],
   "source": [
    "!pip install requests beautifulsoup4"
   ]
  },
  {
   "cell_type": "code",
   "execution_count": 3,
   "id": "8ecfa129",
   "metadata": {},
   "outputs": [],
   "source": [
    "import re\n",
    "import requests\n",
    "from bs4 import BeautifulSoup\n"
   ]
  },
  {
   "cell_type": "code",
   "execution_count": 4,
   "id": "d32db2ee",
   "metadata": {},
   "outputs": [],
   "source": [
    "url = \"https://elpais.com/mexico/\""
   ]
  },
  {
   "cell_type": "code",
   "execution_count": 5,
   "id": "5885c15a",
   "metadata": {},
   "outputs": [
    {
     "data": {
      "text/plain": [
       "'<!DOCTYPE html><html lang=\"es-MX\"><head><meta charSet=\"UTF-8\"/><meta name=\"viewport\" content=\"width=device-width, initial-scale=1.0\"/><link rel=\"preconnect\" href=\"//static.elpais.com\"/><link rel=\"preconnect\" href=\"//assets.adobedtm.com\"/><link rel=\"preconnect\" href=\"//sdk.privacy-center.org\"/><link rel=\"preload\" href=\"https://imagenes.elpais.com/resizer/v2/ELVL57XNDJAATHPAKFGBGIX4Z4.jpg?auth=58d833165969f4deff6b41c4bf9d36430e042e9bbe663d79e264dc8fd987aa83&amp;width=414&amp;height=233&amp;smart=true\" imageSrcSet=\"https://imagenes.elpais.com/resizer/v2/ELVL57XNDJAATHPAKFGBGIX4Z4.jpg?auth=58d833165969f4deff6b41c4bf9d36430e042e9bbe663d79e264dc8fd987aa83&amp;width=414&amp;height=233&amp;smart=true 414w,https://imagenes.elpais.com/resizer/v2/ELVL57XNDJAATHPAKFGBGIX4Z4.jpg?auth=58d833165969f4deff6b41c4bf9d36430e042e9bbe663d79e264dc8fd987aa83&amp;width=828&amp;height=466&amp;smart=true 828w,https://imagenes.elpais.com/resizer/v2/ELVL57XNDJAATHPAKFGBGIX4Z4.jpg?auth=58d833165969f4deff6b41c4bf9d3'"
      ]
     },
     "execution_count": 5,
     "metadata": {},
     "output_type": "execute_result"
    }
   ],
   "source": [
    "# Obtener contenido de la página\n",
    "html_content = requests.get(url)\n",
    "html_content.text[:1000]"
   ]
  },
  {
   "cell_type": "code",
   "execution_count": 6,
   "id": "6f8ea044",
   "metadata": {},
   "outputs": [],
   "source": [
    "# Convertimos la respuesta a un elemento de BeautifulSoup\n",
    "soup = BeautifulSoup(html_content.text, \"html.parser\")"
   ]
  },
  {
   "cell_type": "code",
   "execution_count": 7,
   "id": "dd228e7e",
   "metadata": {},
   "outputs": [
    {
     "data": {
      "text/plain": [
       "[<article class=\"c c-d c--m\" data-word=\"870\"><div class=\"c_m\"><span class=\"c_m_c _pr _db\" href=\"https://elpais.com/mexico/2025-09-19/la-trama-de-hernan-bermudez-pone-contra-las-cuerdas-a-adan-augusto-lopez-y-mide-la-politica-anticorrupcion-de-sheinbaum.html?autoplay=1\" title=\"La trama de Bermúdez arrincona a Adán Augusto López y mide la política anticorrupción de Sheinbaum\"><video class=\"_re\" data-poster=\"https://imagenes.elpais.com/resizer/v2/ELVL57XNDJAATHPAKFGBGIX4Z4.jpg?auth=58d833165969f4deff6b41c4bf9d36430e042e9bbe663d79e264dc8fd987aa83&amp;width=414&amp;height=233&amp;smart=true\" data-src=\"https://vdmedia.elpais.com/elpaistop/multimedia/20259/19/1090995.mp4\" data-title=\"La trama de Bermúdez arrincona a Adán Augusto López y mide la política anticorrupción de Sheinbaum\" height=\"315\" id=\"vloop_601\" loop=\"\" muted=\"\" width=\"560\"><source data-src=\"https://vdmedia.elpais.com/elpaistop/multimedia/20259/19/1090995.mp4\" type=\"video/mp4\"/></video></span></div><header class=\"c_h\"><h2 class=\"c_t\"><a href=\"https://elpais.com/mexico/2025-09-19/la-trama-de-hernan-bermudez-pone-contra-las-cuerdas-a-adan-augusto-lopez-y-mide-la-politica-anticorrupcion-de-sheinbaum.html\">La trama de Bermúdez arrincona a Adán Augusto López y mide la política anticorrupción de Sheinbaum</a></h2></header><div class=\"c_a\"><a class=\"c_a_a\" href=\"https://elpais.com/autor/pablo-ferri/\">Pablo Ferri</a><span class=\"c_a_vr\">|</span><span class=\"c_a_l\">México</span></div><p class=\"c_d\">Los procesos en contra del exjefe policial de Tabasco apuntan a la figura del exgobernador, que lo nombró para el puesto</p></article>,\n",
       " <article class=\"c c-d c--m-n\" data-word=\"0\"><header class=\"c_h\"><h2 class=\"c_t\"><a href=\"https://elpais.com/mexico/2025-09-19/una-tarjeta-de-credito-un-sobrino-y-una-luz-encendida-las-claves-de-la-detencion-de-hernan-bermudez-en-paraguay.html\">Una tarjeta de crédito, un sobrino y una luz encendida: las claves de la detención de Hernán Bermúdez en Paraguay</a></h2></header><div class=\"c_a\"><a class=\"c_a_a\" href=\"https://elpais.com/autor/federico-rivas-molina/\">Federico Rivas Molina</a><span class=\"c_a_vr\">|</span><span class=\"c_a_l\">Buenos Aires</span></div></article>,\n",
       " <article class=\"c c-d c--m-n\" data-word=\"0\"><header class=\"c_h\"><h2 class=\"c_t\"><a href=\"https://elpais.com/mexico/2025-09-19/el-exjuez-arturo-zaldivar-defiende-la-enmienda-al-amparo-y-deja-pistas-de-una-dedicatoria-que-apunta-a-salinas-pliego.html\">El exjuez Arturo Zaldívar defiende la enmienda al amparo y deja pistas de una dedicatoria que apunta a Salinas Pliego </a></h2></header><div class=\"c_a\"><a class=\"c_a_a\" href=\"https://elpais.com/autor/elia-castillo-jimenez/\">Elia Castillo Jiménez</a><span class=\"c_a_vr\">|</span><span class=\"c_a_l\">México</span></div><p class=\"c_d\">Los asesores jurídicos de Sheinbaum rechazan que la reforma al Poder Judicial sea regresiva</p></article>,\n",
       " <article class=\"c c-d c--m-n\" data-word=\"0\"><header class=\"c_h\"><h2 class=\"c_t\"><a href=\"https://elpais.com/mexico/2025-09-19/la-tragedia-de-iztapalapa-escala-a-25-muertos-con-cuatro-mas-en-12-horas.html\">La tragedia de Iztapalapa escala a 25 muertos con cuatro más en 12 horas </a></h2></header><div class=\"c_a\"><a class=\"c_a_a\" href=\"https://elpais.com/autor/veronica-garrido-ramon/\">Verónica M. Garrido</a><span class=\"c_a_vr\">|</span><span class=\"c_a_l\">México</span></div></article>,\n",
       " <article class=\"c c-d c--m\" data-word=\"0\"><figure class=\"c_m a_m-h\"><span class=\"c_m_c _pr _db\"><img alt=\"\" class=\"c_m_e _re lazyload a_m-h\" decoding=\"auto\" height=\"233\" loading=\"lazy\" src=\"https://imagenes.elpais.com/resizer/v2/3PRWGCVUBRH5FKYDCY6JJPQMPY.jpg?auth=f8ff071166b2bd4b76970704994f85dfaaf11992ae5a4af85ef5383ecf09d35d&amp;width=414&amp;height=233&amp;smart=true\" srcset=\"https://imagenes.elpais.com/resizer/v2/3PRWGCVUBRH5FKYDCY6JJPQMPY.jpg?auth=f8ff071166b2bd4b76970704994f85dfaaf11992ae5a4af85ef5383ecf09d35d&amp;width=414&amp;height=233&amp;smart=true 414w,https://imagenes.elpais.com/resizer/v2/3PRWGCVUBRH5FKYDCY6JJPQMPY.jpg?auth=f8ff071166b2bd4b76970704994f85dfaaf11992ae5a4af85ef5383ecf09d35d&amp;width=828&amp;height=466&amp;smart=true 828w\" width=\"414\"/></span><figcaption aria-hidden=\"true\" class=\"c_m_p\"><span>Trump en la Casa Blanca, este jueves.</span><span class=\"c_m_p_a\">AP</span></figcaption></figure><header class=\"c_h\"><h2 class=\"c_t\"><a href=\"https://elpais.com/mexico/2025-09-19/la-dea-propuso-a-trump-ejecutar-ataques-militares-en-mexico-a-principios-de-este-ano.html\">La DEA propuso a Trump ejecutar ataques militares en México a principios de este año </a></h2></header><div class=\"c_a\"><a class=\"c_a_a\" href=\"https://elpais.com/autor/beatriz-guillen-torres/\">Beatriz Guillén</a><span class=\"c_a_vr\">|</span><span class=\"c_a_l\">México</span></div><p class=\"c_d\">‘The Washington Post’ revela que Washington rechazó la propuesta de la agencia antidrogas que pretendía eliminar objetivos selectivos</p></article>,\n",
       " <article class=\"c c-d c--m-n\" data-word=\"0\"><header class=\"c_h\"><h2 class=\"c_t\"><a href=\"https://elpais.com/mexico/economia/2025-09-19/el-fmi-ajusta-al-alza-su-prevision-sobre-mexico-crecera-un-1-en-2025.html\">El FMI ajusta al alza su previsión sobre México: crecerá un 1% en 2025</a></h2></header><div class=\"c_a\"><a class=\"c_a_a\" href=\"https://elpais.com/autor/sonia-corona-sanchez/\">Sonia Corona</a><span class=\"c_a_vr\">|</span><span class=\"c_a_l\">México</span></div></article>,\n",
       " <article class=\"c c c-m _g _g-lg c--d c-m-l c--m c--c\" data-word=\"0\"><div class=\"c_tx\"><header class=\"c_h\"><h2 class=\"c_t c_t-xxs c_t-r\"><a href=\"https://elpais.com/mexico/2025-09-19/muere-la-astronoma-mexicana-julieta-fierro.html\">Se apaga la estrella de Julieta Fierro: muere la astrónoma y referente de la divulgación científica a los 77 años</a></h2></header><div class=\"c_a\"><a class=\"c_a_a\" href=\"https://elpais.com/autor/micaela-varela/\">Micaela Varela</a><span class=\"c_a_vr\">|</span><span class=\"c_a_l\">México</span></div><p class=\"c_d\">La reconocida investigadora y profesora contribuyó a llevar la ciencia a todos los públicos con sus libros, conferencias, publicaciones y premios</p></div><figure class=\"c_m a_m-h\"><span class=\"c_m_c _pr _db\"><img alt=\"\" class=\"c_m_e _re lazyload a_m-h\" decoding=\"auto\" height=\"233\" loading=\"lazy\" sizes=\"(min-width: 1199px) 1155px, (min-width: 1001px) calc(100vw - 44px), (min-width: 768px) 715px, (min-width: 576px) calc(100vw - 40px), 100vw\" src=\"https://imagenes.elpais.com/resizer/v2/KYR7MW7VPJG7BDGINTUQYWYQZU.jpg?auth=95919e0f9197caa246ca53e699420339e33bcdc8d04838dd05370d59b7df0bf7&amp;width=414&amp;height=233&amp;smart=true\" srcset=\"https://imagenes.elpais.com/resizer/v2/KYR7MW7VPJG7BDGINTUQYWYQZU.jpg?auth=95919e0f9197caa246ca53e699420339e33bcdc8d04838dd05370d59b7df0bf7&amp;width=414&amp;height=233&amp;smart=true 414w,https://imagenes.elpais.com/resizer/v2/KYR7MW7VPJG7BDGINTUQYWYQZU.jpg?auth=95919e0f9197caa246ca53e699420339e33bcdc8d04838dd05370d59b7df0bf7&amp;width=828&amp;height=466&amp;smart=true 828w,\" width=\"414\"/></span><figcaption aria-hidden=\"true\" class=\"c_m_p\"><span>La física y astrónoma Julieta Fierro durante una entrevista para EL PAÍS, en su hogar, en 2024.</span><span class=\"c_m_p_a\">Nayeli Cruz</span></figcaption></figure></article>,\n",
       " <article class=\"c c-d c--m\" data-word=\"0\"><div class=\"c_m a_m-h c_m--nf\"><span class=\"c_m_c _pr _db\"><img alt=\"\" class=\"c_m_e _re lazyload a_m-h\" decoding=\"auto\" height=\"311\" loading=\"lazy\" src=\"https://imagenes.elpais.com/resizer/v2/HBFJ2COGWBGIHMZNYAQTC2E2EY.jpg?auth=8cd259c84329024ed0de60fb32aefc2c469fc0ef77ee37edfb786c990a93d99f&amp;width=414&amp;height=311&amp;focal=2635%2C2177\" srcset=\"https://imagenes.elpais.com/resizer/v2/HBFJ2COGWBGIHMZNYAQTC2E2EY.jpg?auth=8cd259c84329024ed0de60fb32aefc2c469fc0ef77ee37edfb786c990a93d99f&amp;width=414&amp;height=311&amp;focal=2635%2C2177 414w,https://imagenes.elpais.com/resizer/v2/HBFJ2COGWBGIHMZNYAQTC2E2EY.jpg?auth=8cd259c84329024ed0de60fb32aefc2c469fc0ef77ee37edfb786c990a93d99f&amp;width=828&amp;height=621&amp;focal=2635%2C2177 828w\" width=\"414\"/></span></div><header class=\"c_h\"><h2 class=\"c_t\"><a href=\"https://elpais.com/mexico/2025-09-19/ciudad-de-mexico-conmemora-el-19s-con-homenajes-charlas-y-exposiciones-al-cumplirse-40-anos-del-gran-sismo-de-1985.html\">Ciudad de México conmemora el 19S al cumplirse cuatro décadas del sismo del 85</a></h2></header><div class=\"c_a\"><a class=\"c_a_a\" href=\"https://elpais.com/autor/sara-elizabeth-gonzalez-ortiz/\">Sara González</a><span class=\"c_a_vr\">|</span><span class=\"c_a_l\">México</span></div><p class=\"c_d\">El 19 de septiembre se ha convertido en una fecha de memoria, reflexión y resiliencia </p></article>,\n",
       " <article class=\"c c-d c--m\" data-word=\"0\"><div class=\"c_m a_m-h c_m--nf\"><span class=\"c_m_c _pr _db\"><img alt=\"\" class=\"c_m_e _re lazyload a_m-h\" decoding=\"auto\" height=\"311\" loading=\"lazy\" src=\"https://imagenes.elpais.com/resizer/v2/RVKHPRHEG5FE5DJLEUSFKSRRI4.jpg?auth=154f35ca18cd68a3020fca88726805a033af2ab3e5682d230c8843052b42ebba&amp;width=414&amp;height=311&amp;focal=3341%2C1742\" srcset=\"https://imagenes.elpais.com/resizer/v2/RVKHPRHEG5FE5DJLEUSFKSRRI4.jpg?auth=154f35ca18cd68a3020fca88726805a033af2ab3e5682d230c8843052b42ebba&amp;width=414&amp;height=311&amp;focal=3341%2C1742 414w,https://imagenes.elpais.com/resizer/v2/RVKHPRHEG5FE5DJLEUSFKSRRI4.jpg?auth=154f35ca18cd68a3020fca88726805a033af2ab3e5682d230c8843052b42ebba&amp;width=828&amp;height=621&amp;focal=3341%2C1742 828w\" width=\"414\"/></span></div><header class=\"c_h\"><h2 class=\"c_t\"><a href=\"https://elpais.com/mexico/2025-09-19/simulacro-nacional-2025-en-imagenes.html\">Miles de mexicanos participan en el simulacro nacional ante un terremoto</a></h2></header><p class=\"c_d\">A mediodía de este 19 de septiembre, la población civil y las autoridades realizaron ejercicios de prevención en caso de una emergencia</p></article>,\n",
       " <article class=\"c c-d c--m\" data-word=\"0\"><figure class=\"c_m a_m-h\"><span class=\"c_m_c _pr _db\"><img alt=\"\" class=\"c_m_e _re lazyload a_m-h\" decoding=\"auto\" height=\"233\" loading=\"lazy\" sizes=\"(min-width: 1199px) 1155px, (min-width: 1001px) calc(100vw - 44px), (min-width: 768px) 715px, (min-width: 576px) calc(100vw - 40px), 100vw\" src=\"https://imagenes.elpais.com/resizer/v2/WRLRT6SRMRFBDPWNNCEBTVT3IY.jpg?auth=2e9aeec84eca9a755daca3412fa415967730ab1f7151913114a8b1e07d49ad85&amp;width=414&amp;height=233&amp;focal=1284%2C877\" srcset=\"https://imagenes.elpais.com/resizer/v2/WRLRT6SRMRFBDPWNNCEBTVT3IY.jpg?auth=2e9aeec84eca9a755daca3412fa415967730ab1f7151913114a8b1e07d49ad85&amp;width=414&amp;height=233&amp;focal=1284%2C877 414w,https://imagenes.elpais.com/resizer/v2/WRLRT6SRMRFBDPWNNCEBTVT3IY.jpg?auth=2e9aeec84eca9a755daca3412fa415967730ab1f7151913114a8b1e07d49ad85&amp;width=828&amp;height=466&amp;focal=1284%2C877 828w,\" width=\"414\"/></span><figcaption aria-hidden=\"true\" class=\"c_m_p\"><span>Roberto Sandoval, en 2013, en Ciudad de México</span><span class=\"c_m_p_a\">Cuartoscuro</span></figcaption></figure><header class=\"c_h\"><h2 class=\"c_t\"><a href=\"https://elpais.com/mexico/2025-09-19/dictan-sentencia-de-siete-anos-de-carcel-en-mexico-al-exgobernador-del-pri-roberto-sandoval.html\">Dictan sentencia de siete años de cárcel en México al exgobernador del PRI Roberto Sandoval</a></h2></header><div class=\"c_a\"><a class=\"c_a_a\" href=\"https://elpais.com/autor/erika-joselyn-rosete-pichardo/\">Erika Rosete</a><span class=\"c_a_vr\">|</span><span class=\"c_a_l\">México</span></div><p class=\"c_d\">La defensa del político ha dicho que apelará la condena de un juez estatal por falsificar documentos</p></article>]"
      ]
     },
     "execution_count": 7,
     "metadata": {},
     "output_type": "execute_result"
    }
   ],
   "source": [
    "# Obtener los principales articulos\n",
    "articles = soup.find_all(\"article\", class_ = [\"c\", \"c-d\"])\n",
    "articles[:10]"
   ]
  },
  {
   "cell_type": "code",
   "execution_count": 8,
   "id": "7ffef341",
   "metadata": {},
   "outputs": [],
   "source": [
    "\"\"\"\n",
    "Creación de elementos para cada artículo\n",
    "- Titulo\n",
    "- Enlace\n",
    "- Autor\n",
    "- Descripción\n",
    "\"\"\"\n",
    "\n",
    "articles_parsed = []\n",
    "\n",
    "for a in articles:\n",
    "    a_title_tag = a.find(\"h2\")\n",
    "    a_title = a_title_tag.get_text(strip = True) if a_title_tag else None\n",
    "\n",
    "    a_link_tag = a_title_tag.find(\"a\")\n",
    "    a_link = a_link_tag[\"href\"] if a_link_tag else None\n",
    "\n",
    "    a_auth_tag = a.find(class_ = \"c_a_a\")\n",
    "    a_auth = a_auth_tag.get_text(strip = True) if a_auth_tag else None\n",
    "\n",
    "    a_desc_tag = a.find(class_ = \"c_d\")\n",
    "    a_desc = a_desc_tag.get_text(strip = True) if a_desc_tag else None\n",
    "\n",
    "    article_content = {\n",
    "        \"titulo\": a_title, \n",
    "        \"enlace\": a_link, \n",
    "        \"autor\": a_auth,\n",
    "        \"descripcion\": a_desc\n",
    "    }\n",
    "    \n",
    "    articles_parsed.append(article_content)"
   ]
  },
  {
   "cell_type": "code",
   "execution_count": 11,
   "id": "e734c409",
   "metadata": {},
   "outputs": [
    {
     "data": {
      "text/plain": [
       "[{'titulo': 'La trama de Bermúdez arrincona a Adán Augusto López y mide la política anticorrupción de Sheinbaum',\n",
       "  'enlace': 'https://elpais.com/mexico/2025-09-19/la-trama-de-hernan-bermudez-pone-contra-las-cuerdas-a-adan-augusto-lopez-y-mide-la-politica-anticorrupcion-de-sheinbaum.html',\n",
       "  'autor': 'Pablo Ferri',\n",
       "  'descripcion': 'Los procesos en contra del exjefe policial de Tabasco apuntan a la figura del exgobernador, que lo nombró para el puesto'},\n",
       " {'titulo': 'Una tarjeta de crédito, un sobrino y una luz encendida: las claves de la detención de Hernán Bermúdez en Paraguay',\n",
       "  'enlace': 'https://elpais.com/mexico/2025-09-19/una-tarjeta-de-credito-un-sobrino-y-una-luz-encendida-las-claves-de-la-detencion-de-hernan-bermudez-en-paraguay.html',\n",
       "  'autor': 'Federico Rivas Molina',\n",
       "  'descripcion': None},\n",
       " {'titulo': 'El exjuez Arturo Zaldívar defiende la enmienda al amparo y deja pistas de una dedicatoria que apunta a Salinas Pliego',\n",
       "  'enlace': 'https://elpais.com/mexico/2025-09-19/el-exjuez-arturo-zaldivar-defiende-la-enmienda-al-amparo-y-deja-pistas-de-una-dedicatoria-que-apunta-a-salinas-pliego.html',\n",
       "  'autor': 'Elia Castillo Jiménez',\n",
       "  'descripcion': 'Los asesores jurídicos de Sheinbaum rechazan que la reforma al Poder Judicial sea regresiva'}]"
      ]
     },
     "execution_count": 11,
     "metadata": {},
     "output_type": "execute_result"
    }
   ],
   "source": [
    "articles_parsed[:3]"
   ]
  },
  {
   "cell_type": "code",
   "execution_count": 12,
   "id": "ecbd62a8",
   "metadata": {},
   "outputs": [],
   "source": [
    "# Buscar articulos de violencia o problemas sociales\n",
    "violencia_re = r'violencia|agresion(nes)?|golpe(s)?|muerto(s)?|muerte(s)?|corrupcion|crueldad|discriminacion|probreza|delincuencia|desempleo|marginacion'\n",
    "\n",
    "matched_articles = []\n",
    "\n",
    "for a in articles_parsed:\n",
    "    a_title_lower = a[\"titulo\"].lower()\n",
    "    a_title = re.sub(r\"á\", \"a\", a_title_lower)\n",
    "    a_title = re.sub(r\"é\", \"e\", a_title)\n",
    "    a_title = re.sub(r\"í\", \"i\", a_title)\n",
    "    a_title = re.sub(r\"ó\", \"o\", a_title)\n",
    "    a_title = re.sub(r\"ú\", \"u\", a_title)\n",
    "    a_title = re.sub(r\"[^\\w\\s]\", \"\", a_title)\n",
    "\n",
    "    if re.search(violencia_re, a_title):\n",
    "        matched_articles.append(a)"
   ]
  },
  {
   "cell_type": "code",
   "execution_count": 13,
   "id": "e66c01fd",
   "metadata": {},
   "outputs": [
    {
     "data": {
      "text/plain": [
       "[{'titulo': 'La trama de Bermúdez arrincona a Adán Augusto López y mide la política anticorrupción de Sheinbaum',\n",
       "  'enlace': 'https://elpais.com/mexico/2025-09-19/la-trama-de-hernan-bermudez-pone-contra-las-cuerdas-a-adan-augusto-lopez-y-mide-la-politica-anticorrupcion-de-sheinbaum.html',\n",
       "  'autor': 'Pablo Ferri',\n",
       "  'descripcion': 'Los procesos en contra del exjefe policial de Tabasco apuntan a la figura del exgobernador, que lo nombró para el puesto'},\n",
       " {'titulo': 'La tragedia de Iztapalapa escala a 25 muertos con cuatro más en 12 horas',\n",
       "  'enlace': 'https://elpais.com/mexico/2025-09-19/la-tragedia-de-iztapalapa-escala-a-25-muertos-con-cuatro-mas-en-12-horas.html',\n",
       "  'autor': 'Verónica M. Garrido',\n",
       "  'descripcion': None},\n",
       " {'titulo': 'Israel afirma que golpeará Ciudad de Gaza con una fuerza “sin precedentes”',\n",
       "  'enlace': 'https://elpais.com/internacional/2025-09-19/israel-cierra-la-segunda-via-de-salida-de-ciudad-de-gaza-y-anuncia-una-ofensiva-sin-precedentes-sobre-la-zona.html',\n",
       "  'autor': 'Joan Cabasés Vega',\n",
       "  'descripcion': 'Las tropas israelíes avanzan hacia el corazón de la capital, donde centenares de miles de personas permanecen en un territorio donde denuncian explosiones y escasez de suministros básicos'},\n",
       " {'titulo': 'La tragedia de Iztapalapa escala a 25 muertos con cuatro más en 12 horas',\n",
       "  'enlace': 'https://elpais.com/mexico/2025-09-19/la-tragedia-de-iztapalapa-escala-a-25-muertos-con-cuatro-mas-en-12-horas.html',\n",
       "  'autor': None,\n",
       "  'descripcion': None},\n",
       " {'titulo': 'Una brutal paliza de unos alumnos al director de su plantel en Tamaulipas reabre el debate de la violencia en las escuelas en México',\n",
       "  'enlace': 'https://elpais.com/mexico/2025-09-18/una-brutal-paliza-de-unos-alumnos-al-director-de-su-plantel-en-tamaulipas-reabre-el-debate-de-la-violencia-en-las-escuelas-en-mexico.html',\n",
       "  'autor': None,\n",
       "  'descripcion': None}]"
      ]
     },
     "execution_count": 13,
     "metadata": {},
     "output_type": "execute_result"
    }
   ],
   "source": [
    "matched_articles[:5]"
   ]
  },
  {
   "cell_type": "code",
   "execution_count": null,
   "id": "c5d7a79c",
   "metadata": {},
   "outputs": [],
   "source": []
  }
 ],
 "metadata": {
  "kernelspec": {
   "display_name": "diplomado",
   "language": "python",
   "name": "python3"
  },
  "language_info": {
   "codemirror_mode": {
    "name": "ipython",
    "version": 3
   },
   "file_extension": ".py",
   "mimetype": "text/x-python",
   "name": "python",
   "nbconvert_exporter": "python",
   "pygments_lexer": "ipython3",
   "version": "3.12.7"
  }
 },
 "nbformat": 4,
 "nbformat_minor": 5
}
